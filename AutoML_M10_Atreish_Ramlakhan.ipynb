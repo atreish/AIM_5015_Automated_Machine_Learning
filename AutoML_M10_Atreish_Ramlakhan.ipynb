{
 "cells": [
  {
   "cell_type": "raw",
   "metadata": {},
   "source": [
    "Atreish Ramlakhan\n",
    "AIM-5014 Automated Machine Learning \n",
    "Module 9 HW\n",
    "Storytelling with Data"
   ]
  },
  {
   "cell_type": "code",
   "execution_count": 1,
   "metadata": {},
   "outputs": [],
   "source": [
    "import pandas as pd\n",
    "import numpy as np\n",
    "import matplotlib.pyplot as plt\n",
    "import re"
   ]
  },
  {
   "cell_type": "code",
   "execution_count": 2,
   "metadata": {},
   "outputs": [
    {
     "data": {
      "text/html": [
       "<div>\n",
       "<style scoped>\n",
       "    .dataframe tbody tr th:only-of-type {\n",
       "        vertical-align: middle;\n",
       "    }\n",
       "\n",
       "    .dataframe tbody tr th {\n",
       "        vertical-align: top;\n",
       "    }\n",
       "\n",
       "    .dataframe thead th {\n",
       "        text-align: right;\n",
       "    }\n",
       "</style>\n",
       "<table border=\"1\" class=\"dataframe\">\n",
       "  <thead>\n",
       "    <tr style=\"text-align: right;\">\n",
       "      <th></th>\n",
       "      <th>Series Code</th>\n",
       "      <th>2000</th>\n",
       "      <th>2001</th>\n",
       "      <th>2002</th>\n",
       "      <th>2003</th>\n",
       "      <th>2004</th>\n",
       "      <th>2005</th>\n",
       "      <th>2006</th>\n",
       "      <th>2007</th>\n",
       "      <th>2008</th>\n",
       "      <th>...</th>\n",
       "      <th>2011</th>\n",
       "      <th>2012</th>\n",
       "      <th>2013</th>\n",
       "      <th>2014</th>\n",
       "      <th>2015</th>\n",
       "      <th>2016</th>\n",
       "      <th>2017</th>\n",
       "      <th>2018</th>\n",
       "      <th>2019</th>\n",
       "      <th>2020</th>\n",
       "    </tr>\n",
       "  </thead>\n",
       "  <tbody>\n",
       "    <tr>\n",
       "      <th>0</th>\n",
       "      <td>SH.STA.SUIC.P5</td>\n",
       "      <td>11.0</td>\n",
       "      <td>11.4</td>\n",
       "      <td>11.8</td>\n",
       "      <td>11.7</td>\n",
       "      <td>11.9</td>\n",
       "      <td>11.9</td>\n",
       "      <td>12.1</td>\n",
       "      <td>12.4</td>\n",
       "      <td>12.7</td>\n",
       "      <td>...</td>\n",
       "      <td>13.4</td>\n",
       "      <td>13.5</td>\n",
       "      <td>13.5</td>\n",
       "      <td>14.0</td>\n",
       "      <td>14.4</td>\n",
       "      <td>15.1</td>\n",
       "      <td>15.9</td>\n",
       "      <td>15.7</td>\n",
       "      <td>16.1</td>\n",
       "      <td>..</td>\n",
       "    </tr>\n",
       "    <tr>\n",
       "      <th>1</th>\n",
       "      <td>SH.STA.SUIC.FE.P5</td>\n",
       "      <td>4.5</td>\n",
       "      <td>4.7</td>\n",
       "      <td>5.0</td>\n",
       "      <td>5.0</td>\n",
       "      <td>5.4</td>\n",
       "      <td>5.2</td>\n",
       "      <td>5.4</td>\n",
       "      <td>5.5</td>\n",
       "      <td>5.6</td>\n",
       "      <td>...</td>\n",
       "      <td>6.0</td>\n",
       "      <td>6.1</td>\n",
       "      <td>6.2</td>\n",
       "      <td>6.5</td>\n",
       "      <td>6.8</td>\n",
       "      <td>7.0</td>\n",
       "      <td>7.1</td>\n",
       "      <td>7.2</td>\n",
       "      <td>7.5</td>\n",
       "      <td>..</td>\n",
       "    </tr>\n",
       "    <tr>\n",
       "      <th>2</th>\n",
       "      <td>SH.STA.SUIC.MA.P5</td>\n",
       "      <td>17.7</td>\n",
       "      <td>18.3</td>\n",
       "      <td>18.8</td>\n",
       "      <td>18.6</td>\n",
       "      <td>18.6</td>\n",
       "      <td>18.7</td>\n",
       "      <td>19.1</td>\n",
       "      <td>19.5</td>\n",
       "      <td>20.0</td>\n",
       "      <td>...</td>\n",
       "      <td>20.9</td>\n",
       "      <td>21.1</td>\n",
       "      <td>21.0</td>\n",
       "      <td>21.6</td>\n",
       "      <td>22.2</td>\n",
       "      <td>23.5</td>\n",
       "      <td>24.9</td>\n",
       "      <td>24.3</td>\n",
       "      <td>25.0</td>\n",
       "      <td>..</td>\n",
       "    </tr>\n",
       "  </tbody>\n",
       "</table>\n",
       "<p>3 rows × 22 columns</p>\n",
       "</div>"
      ],
      "text/plain": [
       "         Series Code  2000  2001  2002  2003  2004  2005  2006  2007  2008  \\\n",
       "0     SH.STA.SUIC.P5  11.0  11.4  11.8  11.7  11.9  11.9  12.1  12.4  12.7   \n",
       "1  SH.STA.SUIC.FE.P5   4.5   4.7   5.0   5.0   5.4   5.2   5.4   5.5   5.6   \n",
       "2  SH.STA.SUIC.MA.P5  17.7  18.3  18.8  18.6  18.6  18.7  19.1  19.5  20.0   \n",
       "\n",
       "   ...  2011  2012  2013  2014  2015  2016  2017  2018  2019  2020  \n",
       "0  ...  13.4  13.5  13.5  14.0  14.4  15.1  15.9  15.7  16.1    ..  \n",
       "1  ...   6.0   6.1   6.2   6.5   6.8   7.0   7.1   7.2   7.5    ..  \n",
       "2  ...  20.9  21.1  21.0  21.6  22.2  23.5  24.9  24.3  25.0    ..  \n",
       "\n",
       "[3 rows x 22 columns]"
      ]
     },
     "execution_count": 2,
     "metadata": {},
     "output_type": "execute_result"
    }
   ],
   "source": [
    "data = pd.read_csv('usa.csv')\n",
    "data"
   ]
  },
  {
   "cell_type": "code",
   "execution_count": 3,
   "metadata": {},
   "outputs": [
    {
     "data": {
      "text/html": [
       "<div>\n",
       "<style scoped>\n",
       "    .dataframe tbody tr th:only-of-type {\n",
       "        vertical-align: middle;\n",
       "    }\n",
       "\n",
       "    .dataframe tbody tr th {\n",
       "        vertical-align: top;\n",
       "    }\n",
       "\n",
       "    .dataframe thead th {\n",
       "        text-align: right;\n",
       "    }\n",
       "</style>\n",
       "<table border=\"1\" class=\"dataframe\">\n",
       "  <thead>\n",
       "    <tr style=\"text-align: right;\">\n",
       "      <th></th>\n",
       "      <th>index</th>\n",
       "      <th>0</th>\n",
       "      <th>1</th>\n",
       "      <th>2</th>\n",
       "    </tr>\n",
       "  </thead>\n",
       "  <tbody>\n",
       "    <tr>\n",
       "      <th>0</th>\n",
       "      <td>2000</td>\n",
       "      <td>11.0</td>\n",
       "      <td>4.5</td>\n",
       "      <td>17.7</td>\n",
       "    </tr>\n",
       "    <tr>\n",
       "      <th>1</th>\n",
       "      <td>2001</td>\n",
       "      <td>11.4</td>\n",
       "      <td>4.7</td>\n",
       "      <td>18.3</td>\n",
       "    </tr>\n",
       "    <tr>\n",
       "      <th>2</th>\n",
       "      <td>2002</td>\n",
       "      <td>11.8</td>\n",
       "      <td>5.0</td>\n",
       "      <td>18.8</td>\n",
       "    </tr>\n",
       "    <tr>\n",
       "      <th>3</th>\n",
       "      <td>2003</td>\n",
       "      <td>11.7</td>\n",
       "      <td>5.0</td>\n",
       "      <td>18.6</td>\n",
       "    </tr>\n",
       "    <tr>\n",
       "      <th>4</th>\n",
       "      <td>2004</td>\n",
       "      <td>11.9</td>\n",
       "      <td>5.4</td>\n",
       "      <td>18.6</td>\n",
       "    </tr>\n",
       "    <tr>\n",
       "      <th>5</th>\n",
       "      <td>2005</td>\n",
       "      <td>11.9</td>\n",
       "      <td>5.2</td>\n",
       "      <td>18.7</td>\n",
       "    </tr>\n",
       "    <tr>\n",
       "      <th>6</th>\n",
       "      <td>2006</td>\n",
       "      <td>12.1</td>\n",
       "      <td>5.4</td>\n",
       "      <td>19.1</td>\n",
       "    </tr>\n",
       "    <tr>\n",
       "      <th>7</th>\n",
       "      <td>2007</td>\n",
       "      <td>12.4</td>\n",
       "      <td>5.5</td>\n",
       "      <td>19.5</td>\n",
       "    </tr>\n",
       "    <tr>\n",
       "      <th>8</th>\n",
       "      <td>2008</td>\n",
       "      <td>12.7</td>\n",
       "      <td>5.6</td>\n",
       "      <td>20.0</td>\n",
       "    </tr>\n",
       "    <tr>\n",
       "      <th>9</th>\n",
       "      <td>2009</td>\n",
       "      <td>12.8</td>\n",
       "      <td>5.7</td>\n",
       "      <td>20.0</td>\n",
       "    </tr>\n",
       "    <tr>\n",
       "      <th>10</th>\n",
       "      <td>2010</td>\n",
       "      <td>13.1</td>\n",
       "      <td>5.8</td>\n",
       "      <td>20.5</td>\n",
       "    </tr>\n",
       "    <tr>\n",
       "      <th>11</th>\n",
       "      <td>2011</td>\n",
       "      <td>13.4</td>\n",
       "      <td>6.0</td>\n",
       "      <td>20.9</td>\n",
       "    </tr>\n",
       "    <tr>\n",
       "      <th>12</th>\n",
       "      <td>2012</td>\n",
       "      <td>13.5</td>\n",
       "      <td>6.1</td>\n",
       "      <td>21.1</td>\n",
       "    </tr>\n",
       "    <tr>\n",
       "      <th>13</th>\n",
       "      <td>2013</td>\n",
       "      <td>13.5</td>\n",
       "      <td>6.2</td>\n",
       "      <td>21.0</td>\n",
       "    </tr>\n",
       "    <tr>\n",
       "      <th>14</th>\n",
       "      <td>2014</td>\n",
       "      <td>14.0</td>\n",
       "      <td>6.5</td>\n",
       "      <td>21.6</td>\n",
       "    </tr>\n",
       "    <tr>\n",
       "      <th>15</th>\n",
       "      <td>2015</td>\n",
       "      <td>14.4</td>\n",
       "      <td>6.8</td>\n",
       "      <td>22.2</td>\n",
       "    </tr>\n",
       "    <tr>\n",
       "      <th>16</th>\n",
       "      <td>2016</td>\n",
       "      <td>15.1</td>\n",
       "      <td>7.0</td>\n",
       "      <td>23.5</td>\n",
       "    </tr>\n",
       "    <tr>\n",
       "      <th>17</th>\n",
       "      <td>2017</td>\n",
       "      <td>15.9</td>\n",
       "      <td>7.1</td>\n",
       "      <td>24.9</td>\n",
       "    </tr>\n",
       "    <tr>\n",
       "      <th>18</th>\n",
       "      <td>2018</td>\n",
       "      <td>15.7</td>\n",
       "      <td>7.2</td>\n",
       "      <td>24.3</td>\n",
       "    </tr>\n",
       "    <tr>\n",
       "      <th>19</th>\n",
       "      <td>2019</td>\n",
       "      <td>16.1</td>\n",
       "      <td>7.5</td>\n",
       "      <td>25.0</td>\n",
       "    </tr>\n",
       "  </tbody>\n",
       "</table>\n",
       "</div>"
      ],
      "text/plain": [
       "   index     0    1     2\n",
       "0   2000  11.0  4.5  17.7\n",
       "1   2001  11.4  4.7  18.3\n",
       "2   2002  11.8  5.0  18.8\n",
       "3   2003  11.7  5.0  18.6\n",
       "4   2004  11.9  5.4  18.6\n",
       "5   2005  11.9  5.2  18.7\n",
       "6   2006  12.1  5.4  19.1\n",
       "7   2007  12.4  5.5  19.5\n",
       "8   2008  12.7  5.6  20.0\n",
       "9   2009  12.8  5.7  20.0\n",
       "10  2010  13.1  5.8  20.5\n",
       "11  2011  13.4  6.0  20.9\n",
       "12  2012  13.5  6.1  21.1\n",
       "13  2013  13.5  6.2  21.0\n",
       "14  2014  14.0  6.5  21.6\n",
       "15  2015  14.4  6.8  22.2\n",
       "16  2016  15.1  7.0  23.5\n",
       "17  2017  15.9  7.1  24.9\n",
       "18  2018  15.7  7.2  24.3\n",
       "19  2019  16.1  7.5  25.0"
      ]
     },
     "execution_count": 3,
     "metadata": {},
     "output_type": "execute_result"
    }
   ],
   "source": [
    "data1 = data.drop(columns=['2020','Series Code']).T\n",
    "data1.reset_index(level=0, inplace=True)\n",
    "data1"
   ]
  },
  {
   "cell_type": "markdown",
   "metadata": {},
   "source": [
    "# I. Change Over Time"
   ]
  },
  {
   "cell_type": "code",
   "execution_count": 4,
   "metadata": {},
   "outputs": [
    {
     "name": "stderr",
     "output_type": "stream",
     "text": [
      "/Users/atreish/opt/anaconda3/lib/python3.7/site-packages/matplotlib/cbook/__init__.py:1402: FutureWarning: Support for multi-dimensional indexing (e.g. `obj[:, None]`) is deprecated and will be removed in a future version.  Convert to a numpy array before indexing instead.\n",
      "  x[:, None]\n",
      "/Users/atreish/opt/anaconda3/lib/python3.7/site-packages/matplotlib/axes/_base.py:276: FutureWarning: Support for multi-dimensional indexing (e.g. `obj[:, None]`) is deprecated and will be removed in a future version.  Convert to a numpy array before indexing instead.\n",
      "  x = x[:, np.newaxis]\n",
      "/Users/atreish/opt/anaconda3/lib/python3.7/site-packages/matplotlib/axes/_base.py:278: FutureWarning: Support for multi-dimensional indexing (e.g. `obj[:, None]`) is deprecated and will be removed in a future version.  Convert to a numpy array before indexing instead.\n",
      "  y = y[:, np.newaxis]\n"
     ]
    },
    {
     "data": {
      "image/png": "[encoded data removed]",
      "text/plain": [
       "<Figure size 1152x504 with 1 Axes>"
      ]
     },
     "metadata": {
      "needs_background": "light"
     },
     "output_type": "display_data"
    }
   ],
   "source": [
    "plt.figure(figsize=(16,7))\n",
    "plt.suptitle('Suicide Rate per 100000 Americans', fontsize=20)\n",
    "plt.plot(data1['index'],data1[0],label='Total')\n",
    "plt.xticks(data1['index'], rotation ='vertical')\n",
    "plt.ylabel('Suicide Rate',fontsize=16)\n",
    "plt.xlabel('Year',fontsize=16)\n",
    "plt.ylim((10,20))\n",
    "plt.legend(loc='upper left',fontsize=16)\n",
    "plt.savefig('changeovertime.pdf')\n",
    "plt.show()"
   ]
  },
  {
   "cell_type": "markdown",
   "metadata": {},
   "source": [
    "# II. Drill Down"
   ]
  },
  {
   "cell_type": "code",
   "execution_count": 5,
   "metadata": {},
   "outputs": [
    {
     "name": "stderr",
     "output_type": "stream",
     "text": [
      "/Users/atreish/opt/anaconda3/lib/python3.7/site-packages/matplotlib/cbook/__init__.py:1402: FutureWarning: Support for multi-dimensional indexing (e.g. `obj[:, None]`) is deprecated and will be removed in a future version.  Convert to a numpy array before indexing instead.\n",
      "  x[:, None]\n",
      "/Users/atreish/opt/anaconda3/lib/python3.7/site-packages/matplotlib/axes/_base.py:276: FutureWarning: Support for multi-dimensional indexing (e.g. `obj[:, None]`) is deprecated and will be removed in a future version.  Convert to a numpy array before indexing instead.\n",
      "  x = x[:, np.newaxis]\n",
      "/Users/atreish/opt/anaconda3/lib/python3.7/site-packages/matplotlib/axes/_base.py:278: FutureWarning: Support for multi-dimensional indexing (e.g. `obj[:, None]`) is deprecated and will be removed in a future version.  Convert to a numpy array before indexing instead.\n",
      "  y = y[:, np.newaxis]\n"
     ]
    },
    {
     "data": {
      "image/png": "[encoded data removed]",
      "text/plain": [
       "<Figure size 1152x504 with 1 Axes>"
      ]
     },
     "metadata": {
      "needs_background": "light"
     },
     "output_type": "display_data"
    }
   ],
   "source": [
    "plt.figure(figsize=(16,7))\n",
    "plt.suptitle('Suicide Rate per 100000 Americans', fontsize=20)\n",
    "plt.plot(data1['index'],data1[1],label='Female')\n",
    "plt.plot(data1['index'],data1[2],label='Male')\n",
    "plt.xticks(data1['index'], rotation ='vertical')\n",
    "plt.ylabel('Suicide Rate',fontsize=16)\n",
    "plt.xlabel('Year',fontsize=16)\n",
    "plt.ylim((0,30))\n",
    "plt.legend(loc='upper left',fontsize=16)\n",
    "plt.savefig('drilldown.pdf')\n",
    "plt.show()"
   ]
  },
  {
   "cell_type": "markdown",
   "metadata": {},
   "source": [
    "# III. Zoom Out"
   ]
  },
  {
   "cell_type": "code",
   "execution_count": 6,
   "metadata": {},
   "outputs": [],
   "source": [
    "states = pd.read_csv('2019.csv')\n",
    "states = states.drop(columns=['URL'])"
   ]
  },
  {
   "cell_type": "code",
   "execution_count": 7,
   "metadata": {},
   "outputs": [
    {
     "data": {
      "text/html": [
       "<div>\n",
       "<style scoped>\n",
       "    .dataframe tbody tr th:only-of-type {\n",
       "        vertical-align: middle;\n",
       "    }\n",
       "\n",
       "    .dataframe tbody tr th {\n",
       "        vertical-align: top;\n",
       "    }\n",
       "\n",
       "    .dataframe thead th {\n",
       "        text-align: right;\n",
       "    }\n",
       "</style>\n",
       "<table border=\"1\" class=\"dataframe\">\n",
       "  <thead>\n",
       "    <tr style=\"text-align: right;\">\n",
       "      <th></th>\n",
       "      <th>YEAR</th>\n",
       "      <th>STATE</th>\n",
       "      <th>RATE</th>\n",
       "      <th>DEATHS</th>\n",
       "    </tr>\n",
       "  </thead>\n",
       "  <tbody>\n",
       "    <tr>\n",
       "      <th>0</th>\n",
       "      <td>2019</td>\n",
       "      <td>AL</td>\n",
       "      <td>16.3</td>\n",
       "      <td>804</td>\n",
       "    </tr>\n",
       "    <tr>\n",
       "      <th>1</th>\n",
       "      <td>2019</td>\n",
       "      <td>AK</td>\n",
       "      <td>28.5</td>\n",
       "      <td>210</td>\n",
       "    </tr>\n",
       "    <tr>\n",
       "      <th>2</th>\n",
       "      <td>2019</td>\n",
       "      <td>AZ</td>\n",
       "      <td>18.7</td>\n",
       "      <td>1419</td>\n",
       "    </tr>\n",
       "    <tr>\n",
       "      <th>3</th>\n",
       "      <td>2019</td>\n",
       "      <td>AR</td>\n",
       "      <td>18.0</td>\n",
       "      <td>548</td>\n",
       "    </tr>\n",
       "    <tr>\n",
       "      <th>4</th>\n",
       "      <td>2019</td>\n",
       "      <td>CA</td>\n",
       "      <td>10.7</td>\n",
       "      <td>4436</td>\n",
       "    </tr>\n",
       "  </tbody>\n",
       "</table>\n",
       "</div>"
      ],
      "text/plain": [
       "   YEAR STATE  RATE  DEATHS\n",
       "0  2019    AL  16.3     804\n",
       "1  2019    AK  28.5     210\n",
       "2  2019    AZ  18.7    1419\n",
       "3  2019    AR  18.0     548\n",
       "4  2019    CA  10.7    4436"
      ]
     },
     "execution_count": 7,
     "metadata": {},
     "output_type": "execute_result"
    }
   ],
   "source": [
    "states.head(5)"
   ]
  },
  {
   "cell_type": "code",
   "execution_count": 8,
   "metadata": {},
   "outputs": [],
   "source": [
    "sorted_states = states.sort_values([\"RATE\"], ascending=False)\n",
    "sorted_states1 = states.sort_values([\"DEATHS\"], ascending=False)"
   ]
  },
  {
   "cell_type": "code",
   "execution_count": 9,
   "metadata": {},
   "outputs": [
    {
     "data": {
      "image/png": "[encoded data removed]",
      "text/plain": [
       "<Figure size 1152x504 with 1 Axes>"
      ]
     },
     "metadata": {
      "needs_background": "light"
     },
     "output_type": "display_data"
    },
    {
     "data": {
      "image/png": "[encoded data removed]",
      "text/plain": [
       "<Figure size 1152x504 with 1 Axes>"
      ]
     },
     "metadata": {
      "needs_background": "light"
     },
     "output_type": "display_data"
    }
   ],
   "source": [
    "plt.figure(figsize=(16,7))\n",
    "plt.bar(sorted_states.STATE,sorted_states.RATE)\n",
    "plt.axhline(y = 13.42, color =\"red\", linestyle =\"--\")\n",
    "plt.savefig('zoomout.pdf')\n",
    "plt.show()\n",
    "\n",
    "plt.figure(figsize=(16,7))\n",
    "plt.bar(sorted_states1.STATE,sorted_states1.DEATHS)\n",
    "plt.savefig('zoomout1.pdf')\n",
    "plt.show()"
   ]
  },
  {
   "cell_type": "markdown",
   "metadata": {},
   "source": [
    "# IV. Contrast"
   ]
  },
  {
   "cell_type": "code",
   "execution_count": 10,
   "metadata": {},
   "outputs": [
    {
     "data": {
      "text/html": [
       "<div>\n",
       "<style scoped>\n",
       "    .dataframe tbody tr th:only-of-type {\n",
       "        vertical-align: middle;\n",
       "    }\n",
       "\n",
       "    .dataframe tbody tr th {\n",
       "        vertical-align: top;\n",
       "    }\n",
       "\n",
       "    .dataframe thead th {\n",
       "        text-align: right;\n",
       "    }\n",
       "</style>\n",
       "<table border=\"1\" class=\"dataframe\">\n",
       "  <thead>\n",
       "    <tr style=\"text-align: right;\">\n",
       "      <th></th>\n",
       "      <th>YEAR</th>\n",
       "      <th>STATE</th>\n",
       "      <th>RATE</th>\n",
       "      <th>DEATHS</th>\n",
       "    </tr>\n",
       "  </thead>\n",
       "  <tbody>\n",
       "    <tr>\n",
       "      <th>49</th>\n",
       "      <td>2019</td>\n",
       "      <td>WY</td>\n",
       "      <td>29.3</td>\n",
       "      <td>170</td>\n",
       "    </tr>\n",
       "    <tr>\n",
       "      <th>1</th>\n",
       "      <td>2019</td>\n",
       "      <td>AK</td>\n",
       "      <td>28.5</td>\n",
       "      <td>210</td>\n",
       "    </tr>\n",
       "    <tr>\n",
       "      <th>25</th>\n",
       "      <td>2019</td>\n",
       "      <td>MT</td>\n",
       "      <td>26.2</td>\n",
       "      <td>289</td>\n",
       "    </tr>\n",
       "    <tr>\n",
       "      <th>30</th>\n",
       "      <td>2019</td>\n",
       "      <td>NM</td>\n",
       "      <td>24.0</td>\n",
       "      <td>513</td>\n",
       "    </tr>\n",
       "    <tr>\n",
       "      <th>5</th>\n",
       "      <td>2019</td>\n",
       "      <td>CO</td>\n",
       "      <td>22.1</td>\n",
       "      <td>1312</td>\n",
       "    </tr>\n",
       "    <tr>\n",
       "      <th>4</th>\n",
       "      <td>2019</td>\n",
       "      <td>CA</td>\n",
       "      <td>10.7</td>\n",
       "      <td>4436</td>\n",
       "    </tr>\n",
       "    <tr>\n",
       "      <th>19</th>\n",
       "      <td>2019</td>\n",
       "      <td>MD</td>\n",
       "      <td>10.3</td>\n",
       "      <td>657</td>\n",
       "    </tr>\n",
       "    <tr>\n",
       "      <th>20</th>\n",
       "      <td>2019</td>\n",
       "      <td>MA</td>\n",
       "      <td>8.7</td>\n",
       "      <td>647</td>\n",
       "    </tr>\n",
       "    <tr>\n",
       "      <th>31</th>\n",
       "      <td>2019</td>\n",
       "      <td>NY</td>\n",
       "      <td>8.3</td>\n",
       "      <td>1705</td>\n",
       "    </tr>\n",
       "    <tr>\n",
       "      <th>29</th>\n",
       "      <td>2019</td>\n",
       "      <td>NJ</td>\n",
       "      <td>8.0</td>\n",
       "      <td>762</td>\n",
       "    </tr>\n",
       "  </tbody>\n",
       "</table>\n",
       "</div>"
      ],
      "text/plain": [
       "    YEAR STATE  RATE  DEATHS\n",
       "49  2019    WY  29.3     170\n",
       "1   2019    AK  28.5     210\n",
       "25  2019    MT  26.2     289\n",
       "30  2019    NM  24.0     513\n",
       "5   2019    CO  22.1    1312\n",
       "4   2019    CA  10.7    4436\n",
       "19  2019    MD  10.3     657\n",
       "20  2019    MA   8.7     647\n",
       "31  2019    NY   8.3    1705\n",
       "29  2019    NJ   8.0     762"
      ]
     },
     "execution_count": 10,
     "metadata": {},
     "output_type": "execute_result"
    }
   ],
   "source": [
    "top5 = sorted_states.iloc[:5]\n",
    "bottom5 = sorted_states.iloc[-5:]\n",
    "frames = [top5, bottom5]\n",
    "contrastedf = pd.concat(frames)\n",
    "contrastedf"
   ]
  },
  {
   "cell_type": "code",
   "execution_count": 11,
   "metadata": {},
   "outputs": [
    {
     "data": {
      "image/png": "[encoded data removed]",
      "text/plain": [
       "<Figure size 648x504 with 1 Axes>"
      ]
     },
     "metadata": {
      "needs_background": "light"
     },
     "output_type": "display_data"
    }
   ],
   "source": [
    "color = ['blue','blue','blue','blue','blue','orange','orange','orange','orange','orange']\n",
    "\n",
    "plt.figure(figsize=(9,7))\n",
    "plt.bar(contrastedf.STATE,contrastedf.RATE, color=color)\n",
    "plt.axhline(y = 13.42, color =\"red\", linestyle =\"--\")\n",
    "plt.savefig('contrast.pdf')\n",
    "plt.show()"
   ]
  },
  {
   "cell_type": "markdown",
   "metadata": {},
   "source": [
    "# V. INTERSECTION"
   ]
  },
  {
   "cell_type": "code",
   "execution_count": 12,
   "metadata": {},
   "outputs": [],
   "source": [
    "colordf = pd.read_csv('color.csv')\n",
    "colordf = colordf.sort_values([\"RATE\"], ascending=False)"
   ]
  },
  {
   "cell_type": "code",
   "execution_count": 13,
   "metadata": {},
   "outputs": [
    {
     "data": {
      "image/png": "[encoded data removed]",
      "text/plain": [
       "<Figure size 1152x504 with 1 Axes>"
      ]
     },
     "metadata": {
      "needs_background": "light"
     },
     "output_type": "display_data"
    }
   ],
   "source": [
    "plt.figure(figsize=(16,7))\n",
    "plt.bar(colordf.STATE, colordf.RATE, color=colordf.Color)\n",
    "plt.axhline(y=13.42, color =\"green\", linestyle =\"--\")\n",
    "plt.savefig('intersection.pdf')\n",
    "plt.show()"
   ]
  },
  {
   "cell_type": "markdown",
   "metadata": {},
   "source": [
    "# VI. Factors"
   ]
  },
  {
   "cell_type": "code",
   "execution_count": 14,
   "metadata": {},
   "outputs": [],
   "source": [
    "race = pd.read_csv('raw_data.csv')\n",
    "merged = pd.merge(left=sorted_states, right=race, left_on='STATE', right_on='Location')\n",
    "merged = merged.sort_values([\"RATE\"], ascending=False)"
   ]
  },
  {
   "cell_type": "code",
   "execution_count": 15,
   "metadata": {},
   "outputs": [
    {
     "data": {
      "text/plain": [
       "Index(['YEAR', 'STATE', 'RATE', 'DEATHS', 'Location', 'White', 'Black',\n",
       "       'Hispanic', 'Asian', 'American Indian/Alaska Native', 'Multiple Races'],\n",
       "      dtype='object')"
      ]
     },
     "execution_count": 15,
     "metadata": {},
     "output_type": "execute_result"
    }
   ],
   "source": [
    "merged.columns"
   ]
  },
  {
   "cell_type": "code",
   "execution_count": 16,
   "metadata": {},
   "outputs": [],
   "source": [
    "top5 = merged.iloc[:5]\n",
    "bottom5 = merged.iloc[-5:]\n",
    "frames1 = [top5, bottom5]\n",
    "merged = pd.concat(frames1)"
   ]
  },
  {
   "cell_type": "code",
   "execution_count": 17,
   "metadata": {},
   "outputs": [
    {
     "data": {
      "image/png": "[encoded data removed]",
      "text/plain": [
       "<Figure size 1152x504 with 1 Axes>"
      ]
     },
     "metadata": {
      "needs_background": "light"
     },
     "output_type": "display_data"
    }
   ],
   "source": [
    "plt.figure(figsize=(16,7))\n",
    "plt.bar(merged.STATE, merged.White, color='b')\n",
    "plt.bar(merged.STATE, merged.Black, bottom=merged.White, color='g')\n",
    "plt.bar(merged.STATE, merged.Hispanic, bottom=merged.Black+merged.White, color='r')\n",
    "plt.bar(merged.STATE, merged.Asian, bottom=merged.Hispanic+merged.Black+merged.White, color='c')\n",
    "plt.bar(merged.STATE, merged.iloc[:,9], bottom=merged.Asian+merged.Hispanic+merged.Black+merged.White, color='m')\n",
    "plt.bar(merged.STATE, merged.iloc[:,10], bottom=merged.iloc[:,9]+merged.Asian+merged.Hispanic+merged.Black+merged.White, color='k')\n",
    "plt.savefig('factors.pdf')\n",
    "plt.show()"
   ]
  },
  {
   "cell_type": "markdown",
   "metadata": {},
   "source": [
    "# VII. Outliers"
   ]
  },
  {
   "cell_type": "code",
   "execution_count": 18,
   "metadata": {},
   "outputs": [],
   "source": [
    "region = pd.read_csv('https://raw.githubusercontent.com/cphalpert/census-regions/master/us%20census%20bureau%20regions%20and%20divisions.csv')"
   ]
  },
  {
   "cell_type": "code",
   "execution_count": 19,
   "metadata": {},
   "outputs": [
    {
     "data": {
      "text/plain": [
       "array(['West', 'Midwest', 'South', 'Northeast'], dtype=object)"
      ]
     },
     "execution_count": 19,
     "metadata": {},
     "output_type": "execute_result"
    }
   ],
   "source": [
    "outliers = pd.merge(left=sorted_states, right=region, left_on='STATE', right_on='State Code')\n",
    "outliers['Region'].unique()"
   ]
  },
  {
   "cell_type": "code",
   "execution_count": 20,
   "metadata": {},
   "outputs": [],
   "source": [
    "west = outliers[outliers['Region']=='West']\n",
    "northeast = outliers[outliers['Region']=='Northeast']\n",
    "midwest = outliers[outliers['Region']=='Midwest']\n",
    "south = outliers[outliers['Region']=='South']\n",
    "columns = [west.RATE, northeast.RATE, midwest.RATE, south.RATE]"
   ]
  },
  {
   "cell_type": "code",
   "execution_count": 23,
   "metadata": {},
   "outputs": [
    {
     "data": {
      "image/png": "[encoded data removed]",
      "text/plain": [
       "<Figure size 432x288 with 1 Axes>"
      ]
     },
     "metadata": {
      "needs_background": "light"
     },
     "output_type": "display_data"
    }
   ],
   "source": [
    "fig, ax = plt.subplots()\n",
    "ax.boxplot(columns)\n",
    "plt.savefig('outliers.pdf')\n",
    "plt.show()"
   ]
  },
  {
   "cell_type": "code",
   "execution_count": 24,
   "metadata": {},
   "outputs": [
    {
     "data": {
      "image/png": "[encoded data removed]",
      "text/plain": [
       "<Figure size 720x360 with 1 Axes>"
      ]
     },
     "metadata": {
      "needs_background": "light"
     },
     "output_type": "display_data"
    }
   ],
   "source": [
    "plt.figure(figsize=(10,5))\n",
    "plt.bar(west.STATE, west.RATE)\n",
    "plt.axhline(y=13.42, color =\"red\", linestyle =\"--\")\n",
    "plt.savefig('outliers1.pdf')\n",
    "plt.show()"
   ]
  },
  {
   "cell_type": "markdown",
   "metadata": {},
   "source": [
    "**References**\n",
    "\n",
    "https://databank.worldbank.org/reports.aspx?source=world-development-indicators\n",
    "\n",
    "https://www.cdc.gov/nchs/pressroom/sosmap/suicide-mortality/suicide.htm\n",
    "\n",
    "https://thehoya.com/off-the-wall-red-blue-purple-the-visuality-of-the-electoral-map/\n",
    "\n",
    "https://www.kff.org/other/state-indicator/distribution-by-raceethnicity/?currentTimeframe=0&sortModel=%7B%22colId%22:%22Location%22,%22sort%22:%22asc%22%7D"
   ]
  }
 ],
 "metadata": {
  "kernelspec": {
   "display_name": "Python 3",
   "language": "python",
   "name": "python3"
  },
  "language_info": {
   "codemirror_mode": {
    "name": "ipython",
    "version": 3
   },
   "file_extension": ".py",
   "mimetype": "text/x-python",
   "name": "python",
   "nbconvert_exporter": "python",
   "pygments_lexer": "ipython3",
   "version": "3.7.4"
  }
 },
 "nbformat": 4,
 "nbformat_minor": 2
}
